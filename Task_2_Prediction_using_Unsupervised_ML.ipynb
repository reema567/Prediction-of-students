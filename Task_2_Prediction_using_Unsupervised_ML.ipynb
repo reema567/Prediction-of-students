{
  "nbformat": 4,
  "nbformat_minor": 0,
  "metadata": {
    "colab": {
      "name": "Task 2:Prediction using Unsupervised ML.ipynb",
      "provenance": [],
      "authorship_tag": "ABX9TyNDG9VGre30mgKOeKmRUPIX",
      "include_colab_link": true
    },
    "kernelspec": {
      "name": "python3",
      "display_name": "Python 3"
    }
  },
  "cells": [
    {
      "cell_type": "markdown",
      "metadata": {
        "id": "view-in-github",
        "colab_type": "text"
      },
      "source": [
        "<a href=\"https://colab.research.google.com/github/harishreddy28/Internship_Task/blob/main/Task_2_Prediction_using_Unsupervised_ML.ipynb\" target=\"_parent\"><img src=\"https://colab.research.google.com/assets/colab-badge.svg\" alt=\"Open In Colab\"/></a>"
      ]
    },
    {
      "cell_type": "markdown",
      "metadata": {
        "id": "2fDMK3EviH5K"
      },
      "source": [
        "**HARISH REDDY**\n",
        "\n",
        "Data Science & Business Analytics at The Sparks Foundation"
      ]
    },
    {
      "cell_type": "markdown",
      "metadata": {
        "id": "8Z09mk6XiKE7"
      },
      "source": [
        "TASK#:2 From the given ‘Iris’ dataset, predict the optimum number of clusters and represent it visually using Unsupervised ML\n"
      ]
    },
    {
      "cell_type": "markdown",
      "metadata": {
        "id": "bV41ohWSi_cn"
      },
      "source": [
        "Below steps used to preform the above task\n",
        "\n",
        "1.Import the packages and classes\n",
        "\n",
        "2.Read dataset\n",
        "\n",
        "3.Understand the dataset\n",
        "\n",
        "4.Clustering for dataset exploration using K-means.\n",
        "\n",
        "5.Evaluating a clustering using Cross tabulation\n",
        "\n",
        "6.Measuring clustering quality by using Inertia method"
      ]
    },
    {
      "cell_type": "markdown",
      "metadata": {
        "id": "V67FbDY5kS4l"
      },
      "source": [
        "Step :1 Import the packages,dataset and classes"
      ]
    },
    {
      "cell_type": "code",
      "metadata": {
        "id": "lwOzkIBekOsT"
      },
      "source": [
        "from sklearn.datasets import load_iris\n",
        "import pandas as pd\n",
        "import numpy as np\n",
        "import matplotlib.pyplot as plt\n",
        "import seaborn as sns"
      ],
      "execution_count": 26,
      "outputs": []
    },
    {
      "cell_type": "markdown",
      "metadata": {
        "id": "j5ZprimGkp2y"
      },
      "source": [
        "Step:2 Read dataset"
      ]
    },
    {
      "cell_type": "code",
      "metadata": {
        "id": "Jn6CgHfYkufd"
      },
      "source": [
        "iris_dataset = load_iris()"
      ],
      "execution_count": 27,
      "outputs": []
    },
    {
      "cell_type": "markdown",
      "metadata": {
        "id": "7FjRsz1gk63Z"
      },
      "source": [
        "The iris object that is returned by load_iris is a Bunch object, which is very similar\n",
        "to a dictionary. It contains keys and values"
      ]
    },
    {
      "cell_type": "markdown",
      "metadata": {
        "id": "sWQ4k1IKnz1j"
      },
      "source": [
        "**3.Understand the dataset**"
      ]
    },
    {
      "cell_type": "code",
      "metadata": {
        "id": "Zx3f_yzek_d4",
        "outputId": "228f33ae-25f4-4990-ed83-cba95ab07feb",
        "colab": {
          "base_uri": "https://localhost:8080/",
          "height": 50
        }
      },
      "source": [
        "print(\"Keys of iris_dataset: \\n{}\".format(iris_dataset.keys()))"
      ],
      "execution_count": 28,
      "outputs": [
        {
          "output_type": "stream",
          "text": [
            "Keys of iris_dataset: \n",
            "dict_keys(['data', 'target', 'target_names', 'DESCR', 'feature_names', 'filename'])\n"
          ],
          "name": "stdout"
        }
      ]
    },
    {
      "cell_type": "markdown",
      "metadata": {
        "id": "g0lp5Bx0lHwD"
      },
      "source": [
        "The value of the key DESCR is a short description of the dataset. Let me show the beginning of the description here"
      ]
    },
    {
      "cell_type": "code",
      "metadata": {
        "id": "al9NBDeglSBR",
        "outputId": "fe568e80-3fa7-415f-c29c-404f11f56e73",
        "colab": {
          "base_uri": "https://localhost:8080/",
          "height": 185
        }
      },
      "source": [
        "print(iris_dataset['DESCR'][:193] + \"\\n...\")"
      ],
      "execution_count": 29,
      "outputs": [
        {
          "output_type": "stream",
          "text": [
            ".. _iris_dataset:\n",
            "\n",
            "Iris plants dataset\n",
            "--------------------\n",
            "\n",
            "**Data Set Characteristics:**\n",
            "\n",
            "    :Number of Instances: 150 (50 in each of three classes)\n",
            "    :Number of Attributes: 4 numeric, pre\n",
            "...\n"
          ],
          "name": "stdout"
        }
      ]
    },
    {
      "cell_type": "markdown",
      "metadata": {
        "id": "s3-H3GxBlpER"
      },
      "source": [
        "Iris data is 4-dimensional-Dimension = number of features"
      ]
    },
    {
      "cell_type": "code",
      "metadata": {
        "id": "h4i9qEl0lxsg",
        "outputId": "98a6ce07-fab1-4939-cfce-07a5284f7f48",
        "colab": {
          "base_uri": "https://localhost:8080/",
          "height": 34
        }
      },
      "source": [
        "print(\"Target names: {}\".format(iris_dataset['target_names']))"
      ],
      "execution_count": 30,
      "outputs": [
        {
          "output_type": "stream",
          "text": [
            "Target names: ['setosa' 'versicolor' 'virginica']\n"
          ],
          "name": "stdout"
        }
      ]
    },
    {
      "cell_type": "markdown",
      "metadata": {
        "id": "lMlcpM6DmIhT"
      },
      "source": [
        "The value of feature_names is a list of strings, giving the description of each feature"
      ]
    },
    {
      "cell_type": "code",
      "metadata": {
        "id": "d0Lxku0XmMhH",
        "outputId": "9b2d2cf8-1820-459a-b440-afb832be1bea",
        "colab": {
          "base_uri": "https://localhost:8080/",
          "height": 50
        }
      },
      "source": [
        "print(\"Feature names: \\n{}\".format(iris_dataset['feature_names']))"
      ],
      "execution_count": 31,
      "outputs": [
        {
          "output_type": "stream",
          "text": [
            "Feature names: \n",
            "['sepal length (cm)', 'sepal width (cm)', 'petal length (cm)', 'petal width (cm)']\n"
          ],
          "name": "stdout"
        }
      ]
    },
    {
      "cell_type": "markdown",
      "metadata": {
        "id": "5zIHe68KmT5r"
      },
      "source": [
        "The data itself is contained in the target and data fields. data contains the numeric\n",
        "measurements of sepal length, sepal width, petal length, and petal width in a NumPy\n",
        "array:"
      ]
    },
    {
      "cell_type": "code",
      "metadata": {
        "id": "objoaQ-omVt7",
        "outputId": "6e483caa-77f4-494c-cf08-9b0f8abbf8bd",
        "colab": {
          "base_uri": "https://localhost:8080/",
          "height": 34
        }
      },
      "source": [
        "print(\"Type of data: {}\".format(type(iris_dataset['data'])))"
      ],
      "execution_count": 32,
      "outputs": [
        {
          "output_type": "stream",
          "text": [
            "Type of data: <class 'numpy.ndarray'>\n"
          ],
          "name": "stdout"
        }
      ]
    },
    {
      "cell_type": "markdown",
      "metadata": {
        "id": "MWtVRL6Hme-R"
      },
      "source": [
        "The rows in the data array correspond to flowers, while the columns represent the\n",
        "four measurements that were taken for each flower:"
      ]
    },
    {
      "cell_type": "code",
      "metadata": {
        "id": "85kEzNtEmjJK",
        "outputId": "2653773d-1a52-4834-aabd-09a061a50e13",
        "colab": {
          "base_uri": "https://localhost:8080/",
          "height": 34
        }
      },
      "source": [
        "print(\"Shape of data: {}\".format(iris_dataset['data'].shape))"
      ],
      "execution_count": 33,
      "outputs": [
        {
          "output_type": "stream",
          "text": [
            "Shape of data: (150, 4)\n"
          ],
          "name": "stdout"
        }
      ]
    },
    {
      "cell_type": "markdown",
      "metadata": {
        "id": "gql6dpmMm4ia"
      },
      "source": [
        "We see that the array contains measurements for 150 different flowers. The individual items are called samples and their properties\n",
        "are called features."
      ]
    },
    {
      "cell_type": "code",
      "metadata": {
        "id": "fq4l7i71nBOI",
        "outputId": "1020c79a-3f5a-476f-ea59-12f89270a61d",
        "colab": {
          "base_uri": "https://localhost:8080/",
          "height": 118
        }
      },
      "source": [
        "#feature values for the first five sample\n",
        "print(\"First five columns of data:\\n{}\".format(iris_dataset['data'][:5]))"
      ],
      "execution_count": 34,
      "outputs": [
        {
          "output_type": "stream",
          "text": [
            "First five columns of data:\n",
            "[[5.1 3.5 1.4 0.2]\n",
            " [4.9 3.  1.4 0.2]\n",
            " [4.7 3.2 1.3 0.2]\n",
            " [4.6 3.1 1.5 0.2]\n",
            " [5.  3.6 1.4 0.2]]\n"
          ],
          "name": "stdout"
        }
      ]
    },
    {
      "cell_type": "markdown",
      "metadata": {
        "id": "wQZi_luOnZHE"
      },
      "source": [
        "From this data, we can see that all of the first five flowers have a petal width of 0.2 cm\n",
        "and that the first flower has the longest sepal, at 5.1 cm"
      ]
    },
    {
      "cell_type": "code",
      "metadata": {
        "id": "N3n6CdjDpcoQ"
      },
      "source": [
        "samples=iris_dataset['data']"
      ],
      "execution_count": 35,
      "outputs": []
    },
    {
      "cell_type": "markdown",
      "metadata": {
        "id": "wgCoPGAhn-6e"
      },
      "source": [
        "**Step.4:Clustering for dataset exploration**"
      ]
    },
    {
      "cell_type": "markdown",
      "metadata": {
        "id": "8to2VBNioVjS"
      },
      "source": [
        "k-means clustering with scikit-learn\n",
        "\n",
        "k-means clustering is one of the simplest and most commonly used clustering algo‐\n",
        "rithms. It tries to find cluster centers that are representative of certain regions of the\n",
        "data. The algorithm alternates between two steps: assigning each data point to the\n",
        "closest cluster center, and then setting each cluster center as the mean of the data\n",
        "points that are assigned to it"
      ]
    },
    {
      "cell_type": "code",
      "metadata": {
        "id": "-OA12g7voC72",
        "outputId": "35212d75-a599-405f-8b81-825ec2757ac7",
        "colab": {
          "base_uri": "https://localhost:8080/",
          "height": 101
        }
      },
      "source": [
        "# Import KMeans\n",
        "from sklearn.cluster import KMeans\n",
        "#KMeans instance with 3 clusters\n",
        "model = KMeans(n_clusters=3)\n",
        "model.fit(samples)\n",
        "labels = model.predict(samples)\n",
        "print(labels)"
      ],
      "execution_count": 36,
      "outputs": [
        {
          "output_type": "stream",
          "text": [
            "[0 0 0 0 0 0 0 0 0 0 0 0 0 0 0 0 0 0 0 0 0 0 0 0 0 0 0 0 0 0 0 0 0 0 0 0 0\n",
            " 0 0 0 0 0 0 0 0 0 0 0 0 0 1 1 2 1 1 1 1 1 1 1 1 1 1 1 1 1 1 1 1 1 1 1 1 1\n",
            " 1 1 1 2 1 1 1 1 1 1 1 1 1 1 1 1 1 1 1 1 1 1 1 1 1 1 2 1 2 2 2 2 1 2 2 2 2\n",
            " 2 2 1 1 2 2 2 2 1 2 1 2 1 2 2 1 1 2 2 2 2 2 1 2 2 2 2 1 2 2 2 1 2 2 2 1 2\n",
            " 2 1]\n"
          ],
          "name": "stdout"
        }
      ]
    },
    {
      "cell_type": "markdown",
      "metadata": {
        "id": "W2p6DKAVrJeH"
      },
      "source": [
        "Lets plot Sca!er plot of sepal length vs petal length "
      ]
    },
    {
      "cell_type": "code",
      "metadata": {
        "id": "iiWGKP14oqr0",
        "outputId": "b7535efb-6b24-4b59-e7a9-ecdebcf89a4e",
        "colab": {
          "base_uri": "https://localhost:8080/",
          "height": 265
        }
      },
      "source": [
        "#Lets create array xs and ys of sepal length vs petal length\n",
        "xs = samples[:,0]\n",
        "ys = samples[:,2] \n",
        "plt.scatter(xs, ys, c=labels)\n",
        "##k-means remembers the mean of each cluster (the \"centroids\") \n",
        "centroids = model.cluster_centers_\n",
        "centroids_x = centroids[:,0]\n",
        "centroids_y = centroids[:,2]\n",
        "#scatter plot of centroids_x and centroids_y\n",
        "plt.scatter(centroids_x,centroids_y,marker='D',s=50)\n",
        "plt.show()"
      ],
      "execution_count": 37,
      "outputs": [
        {
          "output_type": "display_data",
          "data": {
            "image/png": "[encoded data removed]",
            "text/plain": [
              "<Figure size 432x288 with 1 Axes>"
            ]
          },
          "metadata": {
            "tags": [],
            "needs_background": "light"
          }
        }
      ]
    },
    {
      "cell_type": "markdown",
      "metadata": {
        "id": "ldIbJkEntC-K"
      },
      "source": [
        "k-means found 3 clusters amongst the iris samples .But how can you be sure that 3 clusters is the correct choice? In other words, how can you evaluate the quality of a clustering?"
      ]
    },
    {
      "cell_type": "markdown",
      "metadata": {
        "id": "FqnmIhC-wjoz"
      },
      "source": [
        "**Step:5 Evaluating a clustering using Cross tabulation**"
      ]
    },
    {
      "cell_type": "code",
      "metadata": {
        "id": "I5G2umeVtG5Z",
        "outputId": "d54222dc-15db-4961-a650-b64a4382e5b6",
        "colab": {
          "base_uri": "https://localhost:8080/",
          "height": 34
        }
      },
      "source": [
        "print(\"Shape of target: {}\".format(iris_dataset['target'].shape))"
      ],
      "execution_count": 38,
      "outputs": [
        {
          "output_type": "stream",
          "text": [
            "Shape of target: (150,)\n"
          ],
          "name": "stdout"
        }
      ]
    },
    {
      "cell_type": "code",
      "metadata": {
        "id": "wPEYF1GczQae"
      },
      "source": [
        "species = iris_dataset['target']"
      ],
      "execution_count": 42,
      "outputs": []
    },
    {
      "cell_type": "markdown",
      "metadata": {
        "id": "kfB2qaQA03f3"
      },
      "source": [
        "Aligning labels and species"
      ]
    },
    {
      "cell_type": "code",
      "metadata": {
        "id": "qAwuO02h0dz8",
        "outputId": "6c979d7f-6295-400d-ecba-5a8746ebc229",
        "colab": {
          "base_uri": "https://localhost:8080/",
          "height": 252
        }
      },
      "source": [
        "df = pd.DataFrame({'labels': labels, 'species': species})\n",
        "print(df)"
      ],
      "execution_count": 43,
      "outputs": [
        {
          "output_type": "stream",
          "text": [
            "     labels  species\n",
            "0         0        0\n",
            "1         0        0\n",
            "2         0        0\n",
            "3         0        0\n",
            "4         0        0\n",
            "..      ...      ...\n",
            "145       2        2\n",
            "146       1        2\n",
            "147       2        2\n",
            "148       2        2\n",
            "149       1        2\n",
            "\n",
            "[150 rows x 2 columns]\n"
          ],
          "name": "stdout"
        }
      ]
    },
    {
      "cell_type": "markdown",
      "metadata": {
        "id": "krC33W4A08hX"
      },
      "source": [
        "Crosstab of labels and species\n"
      ]
    },
    {
      "cell_type": "code",
      "metadata": {
        "id": "AdzLJr_41BWa",
        "outputId": "7c9df80f-925f-4ced-f41c-45cc1879312c",
        "colab": {
          "base_uri": "https://localhost:8080/",
          "height": 101
        }
      },
      "source": [
        "ct = pd.crosstab(df['labels'], df['species'])\n",
        "print(ct)"
      ],
      "execution_count": 44,
      "outputs": [
        {
          "output_type": "stream",
          "text": [
            "species   0   1   2\n",
            "labels             \n",
            "0        50   0   0\n",
            "1         0  48  14\n",
            "2         0   2  36\n"
          ],
          "name": "stdout"
        }
      ]
    },
    {
      "cell_type": "markdown",
      "metadata": {
        "id": "UT9zxZg-1g0n"
      },
      "source": [
        "The cross-tabulation shows that the 3 varieties of species.\n",
        "cluster 0 is perfectly fine but look at cluster 1 , 2 and \n",
        "how do we know clusters correspond to the species"
      ]
    },
    {
      "cell_type": "markdown",
      "metadata": {
        "id": "y2Xslkml2dj_"
      },
      "source": [
        "**Step 6:Measuring clustering quality by intertias**"
      ]
    },
    {
      "cell_type": "markdown",
      "metadata": {
        "id": "Vghx2p2t4YDR"
      },
      "source": [
        "Lets create a KMeans instance called model with k clusters"
      ]
    },
    {
      "cell_type": "code",
      "metadata": {
        "id": "PB1Sl92I3voR"
      },
      "source": [
        "ks = range(1, 6)\n",
        "inertias = []\n",
        "\n",
        "for k in ks:\n",
        "    model = KMeans(n_clusters=k)\n",
        "    model.fit(samples)\n",
        "    inertias.append(model.inertia_)"
      ],
      "execution_count": 46,
      "outputs": []
    },
    {
      "cell_type": "markdown",
      "metadata": {
        "id": "FG7GSmSI32lf"
      },
      "source": [
        "Lets plot ks and intertias"
      ]
    },
    {
      "cell_type": "code",
      "metadata": {
        "id": "pgS0oGQD4ALx",
        "outputId": "ecc0f403-107e-4f64-e5a8-57d0fcb66d46",
        "colab": {
          "base_uri": "https://localhost:8080/",
          "height": 279
        }
      },
      "source": [
        "plt.plot(ks, inertias, '-o')\n",
        "plt.xlabel('number of clusters, k')\n",
        "plt.ylabel('inertia')\n",
        "plt.xticks(ks)\n",
        "plt.show()"
      ],
      "execution_count": 47,
      "outputs": [
        {
          "output_type": "display_data",
          "data": {
            "image/png": "[encoded data removed]",
            "text/plain": [
              "<Figure size 432x288 with 1 Axes>"
            ]
          },
          "metadata": {
            "tags": [],
            "needs_background": "light"
          }
        }
      ]
    },
    {
      "cell_type": "markdown",
      "metadata": {
        "id": "Ei_QfYdU4pwr"
      },
      "source": [
        "**The inertia decreases very slowly from 3 clusters to 4, so it looks like 3 clusters would be a good choice for this data**"
      ]
    },
    {
      "cell_type": "markdown",
      "metadata": {
        "id": "tSjwq8X85Afm"
      },
      "source": [
        "**Evaluating the species clustering with cross-tabulation**"
      ]
    },
    {
      "cell_type": "markdown",
      "metadata": {
        "id": "tx_XoljS5gNe"
      },
      "source": [
        " From the inertia plot that 3 is a good number of clusters for the iris data"
      ]
    },
    {
      "cell_type": "markdown",
      "metadata": {
        "id": "INoa3BTV5sm5"
      },
      "source": [
        "Lets cluster the species samples into three clusters, and compare the clusters to the species varieties using a cross-tabulation"
      ]
    },
    {
      "cell_type": "code",
      "metadata": {
        "id": "2BNoiv5154b-",
        "outputId": "4d8efc55-6c04-4d26-94ec-a282e24735df",
        "colab": {
          "base_uri": "https://localhost:8080/",
          "height": 34
        }
      },
      "source": [
        "model = KMeans(n_clusters=3)\n",
        "model.fit(samples)\n",
        "print(model.inertia_)"
      ],
      "execution_count": 48,
      "outputs": [
        {
          "output_type": "stream",
          "text": [
            "78.85144142614601\n"
          ],
          "name": "stdout"
        }
      ]
    },
    {
      "cell_type": "markdown",
      "metadata": {
        "id": "NL2zZH0r6k7S"
      },
      "source": [
        "The cross-tabulation shows that the 3 varieties of species separate really well into 3 clusters"
      ]
    },
    {
      "cell_type": "code",
      "metadata": {
        "id": "EFpdKJI37pdC"
      },
      "source": [
        ""
      ],
      "execution_count": null,
      "outputs": []
    }
  ]
}